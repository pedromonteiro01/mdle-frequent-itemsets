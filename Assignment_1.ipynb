{
 "cells": [
  {
   "cell_type": "code",
   "execution_count": 64,
   "metadata": {},
   "outputs": [],
   "source": [
    "from pyspark import SparkContext, SparkConf\n",
    "from pyspark.sql import SparkSession\n",
    "\n",
    "from pyspark.sql.functions import collect_list, count\n",
    "\n",
    "from operator import add"
   ]
  },
  {
   "cell_type": "code",
   "execution_count": 49,
   "metadata": {},
   "outputs": [],
   "source": [
    "# Spark Constants\n",
    "APP_NAME = 'assignment1'\n",
    "MASTER = 'local[*]'\n",
    "\n",
    "# Column Constants\n",
    "PATIENT_COLUMN = \"PATIENT\"\n",
    "CODE_COLUMN = \"CODE\"\n",
    "\n",
    "CONDITIONS_COLUMN = \"CONDITIONS\"\n",
    "\n",
    "# Input Constants\n",
    "INPUT_FILE = 'conditions-sample.csv'\n",
    "SUPPORT_THRESHOLD = 1000"
   ]
  },
  {
   "cell_type": "code",
   "execution_count": 50,
   "metadata": {},
   "outputs": [
    {
     "name": "stdout",
     "output_type": "stream",
     "text": [
      "23/03/04 20:21:29 WARN SparkSession: Using an existing Spark session; only runtime SQL configurations will take effect.\n"
     ]
    }
   ],
   "source": [
    "conf = SparkConf().setAppName(APP_NAME).setMaster(MASTER)\n",
    "sc = SparkContext.getOrCreate(conf=conf)\n",
    "\n",
    "spark = SparkSession.builder.appName(APP_NAME).master(MASTER).getOrCreate()"
   ]
  },
  {
   "cell_type": "code",
   "execution_count": 51,
   "metadata": {},
   "outputs": [
    {
     "name": "stderr",
     "output_type": "stream",
     "text": [
      "                                                                                \r"
     ]
    },
    {
     "data": {
      "text/plain": [
       "StructType([StructField('START', TimestampType(), True), StructField('STOP', TimestampType(), True), StructField('PATIENT', StringType(), True), StructField('ENCOUNTER', StringType(), True), StructField('CODE', LongType(), True), StructField('DESCRIPTION', StringType(), True)])"
      ]
     },
     "execution_count": 51,
     "metadata": {},
     "output_type": "execute_result"
    }
   ],
   "source": [
    "ds = spark.read.csv(INPUT_FILE, header=True, inferSchema=True)\n",
    "ds.schema"
   ]
  },
  {
   "cell_type": "code",
   "execution_count": 55,
   "metadata": {},
   "outputs": [
    {
     "name": "stdout",
     "output_type": "stream",
     "text": [
      "+---------+\n",
      "|     CODE|\n",
      "+---------+\n",
      "| 74400008|\n",
      "|449868002|\n",
      "| 38822007|\n",
      "|254637007|\n",
      "| 47693006|\n",
      "+---------+\n",
      "only showing top 5 rows\n",
      "\n"
     ]
    },
    {
     "name": "stderr",
     "output_type": "stream",
     "text": [
      "                                                                                \r"
     ]
    }
   ],
   "source": [
    "conditions = ds.select(CODE_COLUMN).distinct()\n",
    "conditions.show(5)"
   ]
  },
  {
   "cell_type": "code",
   "execution_count": 56,
   "metadata": {},
   "outputs": [
    {
     "name": "stderr",
     "output_type": "stream",
     "text": [
      "[Stage 130:>                                                        (0 + 1) / 1]\r"
     ]
    },
    {
     "name": "stdout",
     "output_type": "stream",
     "text": [
      "+--------------------+--------------------+\n",
      "|             PATIENT|          CONDITIONS|\n",
      "+--------------------+--------------------+\n",
      "|000157a3-5aca-4f2...|[367498001, 15777...|\n",
      "|00016311-4402-47d...|[43878008, 728920...|\n",
      "|00032f7e-ee14-409...|[59621000, 440540...|\n",
      "|00036790-f159-4cd...|[59621000, 744000...|\n",
      "|00047353-ffa1-4c9...|[162864005, 19169...|\n",
      "+--------------------+--------------------+\n",
      "only showing top 5 rows\n",
      "\n"
     ]
    },
    {
     "name": "stderr",
     "output_type": "stream",
     "text": [
      "                                                                                \r"
     ]
    }
   ],
   "source": [
    "patient_conditions = ds.groupBy(PATIENT_COLUMN).agg(collect_list(CODE_COLUMN).alias(CONDITIONS_COLUMN))\n",
    "patient_conditions.show(5)"
   ]
  },
  {
   "cell_type": "code",
   "execution_count": 57,
   "metadata": {},
   "outputs": [
    {
     "name": "stderr",
     "output_type": "stream",
     "text": [
      "[Stage 133:>                                                        (0 + 1) / 1]\r"
     ]
    },
    {
     "name": "stdout",
     "output_type": "stream",
     "text": [
      "+---------+-----+\n",
      "|     CODE|COUNT|\n",
      "+---------+-----+\n",
      "| 74400008| 3234|\n",
      "| 38822007| 1273|\n",
      "| 75498004| 4099|\n",
      "| 16114001| 2098|\n",
      "|283371005| 2043|\n",
      "+---------+-----+\n",
      "only showing top 5 rows\n",
      "\n"
     ]
    },
    {
     "name": "stderr",
     "output_type": "stream",
     "text": [
      "                                                                                \r"
     ]
    }
   ],
   "source": [
    "elems_k1 = ds.groupBy(CODE_COLUMN).agg(count(\"*\").alias(\"COUNT\")).filter(\"count > 1000\")\n",
    "elems_k1.show(5)"
   ]
  },
  {
   "cell_type": "code",
   "execution_count": 68,
   "metadata": {},
   "outputs": [
    {
     "name": "stderr",
     "output_type": "stream",
     "text": [
      "                                                                                \r"
     ]
    },
    {
     "data": {
      "text/plain": [
       "[(367498001, 919),\n",
       " (15777000, 20702),\n",
       " (271737000, 20753),\n",
       " (239873007, 3609),\n",
       " (55822004, 7901),\n",
       " (10509002, 33816),\n",
       " (43878008, 9962),\n",
       " (72892002, 29779),\n",
       " (444814009, 72504),\n",
       " (198992004, 1395),\n",
       " (59621000, 17966),\n",
       " (44054006, 4522),\n",
       " (302870006, 4457),\n",
       " (237602007, 4364),\n",
       " (19169002, 11810),\n",
       " (254837009, 1261),\n",
       " (422034002, 1183),\n",
       " (1551000119108, 678),\n",
       " (97331000119101, 245),\n",
       " (368581000119106, 1552),\n",
       " (403190006, 1597),\n",
       " (44465007, 7477),\n",
       " (195662009, 41484),\n",
       " (74400008, 3234),\n",
       " (428251008, 3234),\n",
       " (83664006, 491),\n",
       " (64859006, 3216),\n",
       " (70704007, 3129),\n",
       " (58150001, 2293),\n",
       " (443165006, 1227),\n",
       " (162864005, 21513),\n",
       " (283371005, 2043),\n",
       " (40055000, 14933),\n",
       " (410429000, 2565),\n",
       " (429007001, 2565),\n",
       " (201834006, 1558),\n",
       " (36971009, 3990),\n",
       " (230265002, 424),\n",
       " (230690007, 3444),\n",
       " (16114001, 2098),\n",
       " (126906006, 1798),\n",
       " (92691004, 1648),\n",
       " (431855005, 1907),\n",
       " (127013003, 2041),\n",
       " (53741008, 4028),\n",
       " (398254007, 1469),\n",
       " (370247008, 2065),\n",
       " (307731004, 1018),\n",
       " (62106007, 4018),\n",
       " (79586000, 1712),\n",
       " (446096008, 1863),\n",
       " (24079001, 1243),\n",
       " (62564004, 1042),\n",
       " (39848009, 3282),\n",
       " (284551006, 2042),\n",
       " (68496003, 5556),\n",
       " (713197008, 1480),\n",
       " (403192003, 121),\n",
       " (55680006, 3149),\n",
       " (185086009, 956),\n",
       " (192127007, 1081),\n",
       " (156073000, 2447),\n",
       " (7200002, 584),\n",
       " (284549007, 1995),\n",
       " (65363002, 10903),\n",
       " (87433001, 1110),\n",
       " (75498004, 4099),\n",
       " (233678006, 1568),\n",
       " (128613002, 2486),\n",
       " (703151001, 2486),\n",
       " (239872002, 1293),\n",
       " (35999006, 1032),\n",
       " (403191005, 1030),\n",
       " (47693006, 983),\n",
       " (33737001, 1007),\n",
       " (84757009, 1266),\n",
       " (49436004, 2475),\n",
       " (88805009, 3304),\n",
       " (109838007, 492),\n",
       " (232353008, 1842),\n",
       " (26929004, 2057),\n",
       " (233604007, 667),\n",
       " (82423001, 3209),\n",
       " (196416002, 3192),\n",
       " (124171000119105, 3222),\n",
       " (162573006, 902),\n",
       " (254637007, 772),\n",
       " (424132000, 772),\n",
       " (38822007, 1273),\n",
       " (263102004, 2062),\n",
       " (283385000, 2185),\n",
       " (444470001, 321),\n",
       " (431856006, 266),\n",
       " (90781000119102, 275),\n",
       " (239720000, 332),\n",
       " (449868002, 799),\n",
       " (65966004, 2697),\n",
       " (301011002, 1958),\n",
       " (1734006, 60),\n",
       " (80394007, 2124),\n",
       " (5602001, 465),\n",
       " (314994000, 303),\n",
       " (30832001, 404),\n",
       " (197927001, 598),\n",
       " (90560007, 553),\n",
       " (370143000, 363),\n",
       " (275272006, 416),\n",
       " (22298006, 1503),\n",
       " (399211009, 1503),\n",
       " (363406005, 458),\n",
       " (444448004, 501),\n",
       " (48333001, 55),\n",
       " (408512008, 266),\n",
       " (40275004, 367),\n",
       " (6072007, 268),\n",
       " (236077008, 268),\n",
       " (94260004, 124),\n",
       " (359817006, 804),\n",
       " (698754002, 61),\n",
       " (93761005, 194),\n",
       " (65275009, 145),\n",
       " (235919008, 145),\n",
       " (241929008, 1088),\n",
       " (110030002, 374),\n",
       " (69896004, 201),\n",
       " (47505003, 51),\n",
       " (262574004, 461),\n",
       " (15724005, 95),\n",
       " (195967001, 101),\n",
       " (1501000119109, 187),\n",
       " (254632001, 127),\n",
       " (67811000119102, 127),\n",
       " (47200007, 16),\n",
       " (95417003, 189),\n",
       " (60951000119105, 12),\n",
       " (429280009, 15),\n",
       " (45816000, 32),\n",
       " (127295002, 25),\n",
       " (427089005, 18),\n",
       " (190905008, 20),\n",
       " (200936003, 6),\n",
       " (161622006, 15),\n",
       " (225444004, 9),\n",
       " (707577004, 10),\n",
       " (65710008, 10),\n",
       " (36923009, 33),\n",
       " (433144002, 14),\n",
       " (157141000119108, 14),\n",
       " (11218009, 6),\n",
       " (448813005, 5),\n",
       " (287182007, 6),\n",
       " (86849004, 7),\n",
       " (206523001, 1),\n",
       " (698423002, 1)]"
      ]
     },
     "execution_count": 68,
     "metadata": {},
     "output_type": "execute_result"
    }
   ],
   "source": [
    "rdd = patient_conditions.rdd \\\n",
    "  .flatMap(lambda v: [(c, 1) for c in v[CONDITIONS_COLUMN]]) \\\n",
    "  .reduceByKey(add)\n",
    "\n",
    "rdd.collect()"
   ]
  }
 ],
 "metadata": {
  "kernelspec": {
   "display_name": "Python 3",
   "language": "python",
   "name": "python3"
  },
  "language_info": {
   "codemirror_mode": {
    "name": "ipython",
    "version": 3
   },
   "file_extension": ".py",
   "mimetype": "text/x-python",
   "name": "python",
   "nbconvert_exporter": "python",
   "pygments_lexer": "ipython3",
   "version": "3.10.9"
  },
  "orig_nbformat": 4,
  "vscode": {
   "interpreter": {
    "hash": "e7370f93d1d0cde622a1f8e1c04877d8463912d04d973331ad4851f04de6915a"
   }
  }
 },
 "nbformat": 4,
 "nbformat_minor": 2
}
