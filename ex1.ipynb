{
 "cells": [
  {
   "attachments": {},
   "cell_type": "markdown",
   "metadata": {},
   "source": [
    "# MDLE - Assignment 1\n",
    "\n",
    "### Frequent itemsets and association rules - Similar items\n",
    "\n",
    "#### Authors\n",
    "- Pedro Duarte 97673\n",
    "- Pedro Monteiro 97484"
   ]
  },
  {
   "cell_type": "code",
   "execution_count": 9,
   "metadata": {},
   "outputs": [],
   "source": [
    "from pyspark import SparkContext, SparkConf\n",
    "from pyspark.sql import SparkSession"
   ]
  },
  {
   "cell_type": "code",
   "execution_count": 10,
   "metadata": {},
   "outputs": [
    {
     "data": {
      "text/html": [
       "\n",
       "        <div>\n",
       "            <p><b>SparkContext</b></p>\n",
       "\n",
       "            <p><a href=\"http://aluno-0252.wireless.ua.pt:4040\">Spark UI</a></p>\n",
       "\n",
       "            <dl>\n",
       "              <dt>Version</dt>\n",
       "                <dd><code>v3.3.2</code></dd>\n",
       "              <dt>Master</dt>\n",
       "                <dd><code>local</code></dd>\n",
       "              <dt>AppName</dt>\n",
       "                <dd><code>assignment1</code></dd>\n",
       "            </dl>\n",
       "        </div>\n",
       "        "
      ],
      "text/plain": [
       "<SparkContext master=local appName=assignment1>"
      ]
     },
     "execution_count": 10,
     "metadata": {},
     "output_type": "execute_result"
    }
   ],
   "source": [
    "conf = SparkConf().setAppName('assignment1').setMaster('local')\n",
    "sc = SparkContext.getOrCreate(conf=conf)\n",
    "sc"
   ]
  },
  {
   "cell_type": "code",
   "execution_count": 12,
   "metadata": {},
   "outputs": [
    {
     "name": "stdout",
     "output_type": "stream",
     "text": [
      "+---------------------+--------+--------------------------------+-----------+---+------+\n",
      "|John                 |Doe     |120 jefferson st.               |Riverside  | NJ| 08075|\n",
      "+---------------------+--------+--------------------------------+-----------+---+------+\n",
      "|Jack                 |McGinnis|220 hobo Av.                    |Phila      | PA|09119 |\n",
      "|John \"Da Man\"        |Repici  |120 Jefferson St.               |Riverside  | NJ|08075 |\n",
      "|Stephen              |Tyler   |7452 Terrace \"At the Plaza\" road|SomeTown   |SD | 91234|\n",
      "|null                 |Blankman|null                            |SomeTown   | SD| 00298|\n",
      "|Joan \"the bone\", Anne|Jet     |9th, at Terrace plc             |Desert City|CO |00123 |\n",
      "+---------------------+--------+--------------------------------+-----------+---+------+\n",
      "\n"
     ]
    }
   ],
   "source": [
    "# Create a SparkSession\n",
    "spark = SparkSession.builder \\\n",
    "    .appName(\"MyApp\") \\\n",
    "    .master(\"local[*]\") \\\n",
    "    .getOrCreate()\n",
    "\n",
    "df = spark.read.csv('addresses.csv',header=True,escape=\"\\\"\")\n",
    "\n",
    "df.show(5,0)"
   ]
  }
 ],
 "metadata": {
  "kernelspec": {
   "display_name": "Python 3",
   "language": "python",
   "name": "python3"
  },
  "language_info": {
   "codemirror_mode": {
    "name": "ipython",
    "version": 3
   },
   "file_extension": ".py",
   "mimetype": "text/x-python",
   "name": "python",
   "nbconvert_exporter": "python",
   "pygments_lexer": "ipython3",
   "version": "3.10.6"
  },
  "orig_nbformat": 4,
  "vscode": {
   "interpreter": {
    "hash": "916dbcbb3f70747c44a77c7bcd40155683ae19c65e1c03b4aa3499c5328201f1"
   }
  }
 },
 "nbformat": 4,
 "nbformat_minor": 2
}
