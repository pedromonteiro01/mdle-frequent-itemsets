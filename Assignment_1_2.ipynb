{
 "cells": [
  {
   "cell_type": "code",
   "execution_count": null,
   "metadata": {},
   "outputs": [],
   "source": [
    "from pyspark import SparkConf, SparkContext\n",
    "from pyspark.sql import SparkSession"
   ]
  },
  {
   "attachments": {},
   "cell_type": "markdown",
   "metadata": {},
   "source": [
    "# Exercise 2.1"
   ]
  },
  {
   "cell_type": "code",
   "execution_count": null,
   "metadata": {},
   "outputs": [],
   "source": [
    "# Spark Constants\n",
    "APP_NAME = 'assignment1ex2'\n",
    "MASTER = 'local[*]'\n",
    "\n",
    "# Similarity Constants\n",
    "MIN_HIGH_SIMILARITY = (.9, .85)\n",
    "MAX_LOW_SIMILARITY = (.05, .6)\n",
    "\n",
    "# Exercise Input Constants\n",
    "BANDS_ROWS_MAX_VALUE = 50"
   ]
  },
  {
   "cell_type": "code",
   "execution_count": null,
   "metadata": {},
   "outputs": [],
   "source": [
    "conf = SparkConf().setAppName(APP_NAME).setMaster(MASTER)\n",
    "sc = SparkContext.getOrCreate(conf=conf)\n",
    "\n",
    "spark = SparkSession.builder.appName(APP_NAME).master(MASTER).config(\"spark.driver.memory\", \"15g\").getOrCreate()"
   ]
  },
  {
   "cell_type": "code",
   "execution_count": null,
   "metadata": {},
   "outputs": [],
   "source": [
    "# Lambda functions to abstract probability calcs\n",
    "similar_probability = lambda s, r: s**r\n",
    "not_similar_in_bands_probability = lambda s, r, b: (1 - similar_probability(s, r))**b\n",
    "similar_in_bands_probability = lambda s, r, b: 1 - not_similar_in_bands_probability(s, r, b)"
   ]
  },
  {
   "cell_type": "code",
   "execution_count": null,
   "metadata": {},
   "outputs": [],
   "source": [
    "bands_rows_valid_pairs = sc.parallelize([(r, b) for r in range(BANDS_ROWS_MAX_VALUE) for b in range(BANDS_ROWS_MAX_VALUE)]) \\\n",
    "    .filter(lambda v: similar_in_bands_probability(MIN_HIGH_SIMILARITY[1], v[0], v[1]) >= MIN_HIGH_SIMILARITY[0]) \\\n",
    "    .filter(lambda v: similar_in_bands_probability(MAX_LOW_SIMILARITY[1], v[0], v[1]) < MAX_LOW_SIMILARITY[0]) \\\n",
    "    .reduceByKey(min) \\\n",
    "    .sortBy(lambda v: v[0]) \\\n",
    "    .cache()\n",
    "\n",
    "bands_rows_valid_pairs.collect()"
   ]
  },
  {
   "cell_type": "code",
   "execution_count": null,
   "metadata": {},
   "outputs": [],
   "source": [
    "r, b = bands_rows_valid_pairs.first()\n",
    "N_FUNCTIONS = r*b\n",
    "\n",
    "N_FUNCTIONS"
   ]
  },
  {
   "attachments": {},
   "cell_type": "markdown",
   "metadata": {},
   "source": [
    "# Exercise 2.2"
   ]
  },
  {
   "cell_type": "code",
   "execution_count": null,
   "metadata": {},
   "outputs": [],
   "source": [
    "# Data Constants\n",
    "TWEET_ID_COLUMN = 'tweet_id'\n",
    "URL_COLUMN = 'url'\n",
    "TEXT_COLUMN = 'text'\n",
    "\n",
    "# Algorithm Constants\n",
    "MAX_SHINGLE_SIZE = 4\n",
    "MINHASH_LENGTH = 5\n",
    "\n",
    "# Input Constants\n",
    "INPUT_FILE = 'covid_news_small.json.bz2'"
   ]
  },
  {
   "cell_type": "code",
   "execution_count": null,
   "metadata": {},
   "outputs": [],
   "source": [
    "ds = spark.read.json(INPUT_FILE)\n",
    "ds.schema"
   ]
  },
  {
   "cell_type": "code",
   "execution_count": null,
   "metadata": {},
   "outputs": [],
   "source": [
    "import re\n",
    "\n",
    "shingles = ds.rdd \\\n",
    "  .map(lambda v: (v[TWEET_ID_COLUMN], v[TEXT_COLUMN].casefold())) \\\n",
    "  .filter(lambda v: len(v[1])) \\\n",
    "  .mapValues(lambda v: re.sub(r'[^\\w\\s]', '', v)) \\\n",
    "  .mapValues(lambda v: [shingle for word in v.split() for shingle in ({word[i:i+MAX_SHINGLE_SIZE] for i in range(len(word) - MAX_SHINGLE_SIZE + 1)} if len(word) > MAX_SHINGLE_SIZE else [word])]) \\\n",
    "  .mapValues(sorted) \\\n",
    "  .mapValues(set) \\\n",
    "  .cache()\n",
    "\n",
    "shingles.count()"
   ]
  },
  {
   "cell_type": "code",
   "execution_count": null,
   "metadata": {},
   "outputs": [],
   "source": [
    "import random\n",
    "\n",
    "def build_hashes(shingles, functions):\n",
    "    return [min([((a*shingle + b)%24862048)%len(shingles) for shingle in shingles]) for a, b in functions]"
   ]
  },
  {
   "cell_type": "code",
   "execution_count": null,
   "metadata": {},
   "outputs": [],
   "source": [
    "functions = [(random.randint(0, 100), random.randint(0, 100)) for _ in range(N_FUNCTIONS)]"
   ]
  },
  {
   "cell_type": "code",
   "execution_count": null,
   "metadata": {},
   "outputs": [],
   "source": [
    "import itertools\n",
    "\n",
    "def calc_band_hash(row):\n",
    "    return [((hash(row[1][i*r:(i+1)*r]), i), row[0]) for i in range(b)]\n",
    "\n",
    "similar_pairs = shingles \\\n",
    "  .mapValues(lambda v: [hash(s) for s in v]) \\\n",
    "  .mapValues(lambda v: build_hashes(v, functions)) \\\n",
    "  .flatMap(lambda v: calc_band_hash((v[0], tuple(v[1])))) \\\n",
    "  .groupByKey(12) \\\n",
    "  .flatMap(lambda v: itertools.combinations(v[1], 2)) \\\n",
    "  .distinct()\n",
    "  \n",
    "similar_pairs.collect()"
   ]
  },
  {
   "cell_type": "code",
   "execution_count": null,
   "metadata": {},
   "outputs": [],
   "source": [
    "candidate_pairs = similar_pairs.flatMap(lambda v: [v, v[::-1]]).groupByKey().mapValues(set).collectAsMap()\n",
    "shingles = shingles.collectAsMap()"
   ]
  },
  {
   "cell_type": "code",
   "execution_count": null,
   "metadata": {},
   "outputs": [],
   "source": [
    "def find_similar(article_id: str, sim_treshold: float):\n",
    "    return [pair for pair in candidate_pairs[article_id] if len([None for s in shingles[article_id] if s in shingles[pair]])/len(shingles[article_id]) > sim_treshold]\n",
    "        \n",
    "def calc_similar(article_id: str):\n",
    "    return [len([None for s in shingles[article_id] if s in shingles[pair]])/len(shingles[article_id]) for pair in candidate_pairs[article_id]]\n",
    "        "
   ]
  },
  {
   "cell_type": "code",
   "execution_count": null,
   "metadata": {},
   "outputs": [],
   "source": [
    "find_similar('1349046528405606404', .85)"
   ]
  },
  {
   "cell_type": "code",
   "execution_count": null,
   "metadata": {},
   "outputs": [],
   "source": [
    "calc_similar('1349046528405606404')"
   ]
  },
  {
   "cell_type": "code",
   "execution_count": null,
   "metadata": {},
   "outputs": [],
   "source": [
    "candidate_pairs['1349046528405606404']"
   ]
  },
  {
   "cell_type": "code",
   "execution_count": null,
   "metadata": {},
   "outputs": [],
   "source": [
    "318/494"
   ]
  },
  {
   "attachments": {},
   "cell_type": "markdown",
   "metadata": {},
   "source": [
    "# Exercise 2.3"
   ]
  }
 ],
 "metadata": {
  "kernelspec": {
   "display_name": "Python 3",
   "language": "python",
   "name": "python3"
  },
  "language_info": {
   "codemirror_mode": {
    "name": "ipython",
    "version": 3
   },
   "file_extension": ".py",
   "mimetype": "text/x-python",
   "name": "python",
   "nbconvert_exporter": "python",
   "pygments_lexer": "ipython3",
   "version": "3.10.9"
  },
  "orig_nbformat": 4
 },
 "nbformat": 4,
 "nbformat_minor": 2
}
